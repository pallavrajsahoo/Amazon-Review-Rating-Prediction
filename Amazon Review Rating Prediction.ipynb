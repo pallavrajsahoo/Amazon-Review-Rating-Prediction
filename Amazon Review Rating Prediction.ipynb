{
 "cells": [
  {
   "cell_type": "markdown",
   "metadata": {
    "colab_type": "text",
    "id": "xR3AiGIdiaES"
   },
   "source": [
    "# Amazon Review Rating Prediction\n",
    "\n",
    "The project deals with the analysis of customer reviews on eCommerce platforms, specifically for consumer electronics. The objective is to build an end-to-end Machine Learning model that predicts review ratings based on review contents and metadata. We have identified a dataset of 100,000 Amazon product reviews that can be used for model training and then need to deploy the model to an endpoint.\n"
   ]
  },
  {
   "cell_type": "markdown",
   "metadata": {
    "colab_type": "text",
    "id": "xR3AiGIdiaES"
   },
   "source": [
    "## Environment setup"
   ]
  },
  {
   "cell_type": "code",
   "execution_count": 66,
   "metadata": {
    "colab": {},
    "colab_type": "code",
    "id": "axD8tPesiaET"
   },
   "outputs": [],
   "source": [
    "# load necessary modules\n",
    "import pickle, re, requests, json, os\n",
    "import numpy as np\n",
    "import pandas as pd\n",
    "import matplotlib.pyplot as plt\n",
    "import seaborn as sns\n",
    "import nltk\n",
    "from nltk.stem.wordnet import WordNetLemmatizer \n",
    "from nltk.corpus import wordnet\n",
    "from sklearn.feature_extraction.text import CountVectorizer\n",
    "from sklearn.model_selection import train_test_split\n",
    "from sklearn.linear_model import LogisticRegression\n",
    "from sklearn import svm\n",
    "from sklearn import metrics"
   ]
  },
  {
   "cell_type": "code",
   "execution_count": 67,
   "metadata": {},
   "outputs": [],
   "source": [
    "nltk.download(\"stopwords\", quiet = True)\n",
    "nltk.download(\"wordnet\", quiet = True)\n",
    "nltk.download(\"punkt\", quiet = True)\n",
    "lemmatizer = WordNetLemmatizer()\n",
    "english_stopwords = set(nltk.corpus.stopwords.words('english'))"
   ]
  },
  {
   "cell_type": "markdown",
   "metadata": {
    "colab_type": "text",
    "id": "E6UZTAsCiaEg"
   },
   "source": [
    "## Dataset Overview\n",
    "Our dataset is included in the tab-delimited file `amazon_reviews.tsv`. Here is a brief description of the dataframe columns:\n",
    "\n",
    "<br>\n",
    "\n",
    "| Column name \t| Description \t|\n",
    "|-\t|-\t|\n",
    "| marketplace \t| 2 letter country code of the marketplace where the review was written. \t|\n",
    "| customer_id \t| Random identifier that can be used to aggregate reviews written by a single author. \t|\n",
    "| review_id \t| The unique ID of the review. \t|\n",
    "| product_id \t| The unique Product ID the review pertains to. In the multilingual dataset the reviews for the same product in different countries can be grouped by the same product_id. \t|\n",
    "| product_parent \t| Random identifier that can be used to aggregate reviews for the same product. \t|\n",
    "| product_title \t| Title of the product. \t|\n",
    "| product_category \t| Broad product category that can be used to group reviews (also used to group the dataset into coherent parts). \t|\n",
    "| helpful_votes \t| Number of helpful votes. \t|\n",
    "| total_votes \t| Number of total votes the review received. \t|\n",
    "| vine \t| Review was written as part of the Vine program. \t|\n",
    "| verified_purchase \t| The review is on a verified purchase. \t|\n",
    "| review_headline \t| The title of the review. \t|\n",
    "| review_body \t| The review text. \t|\n",
    "| review_date \t| The date the review was written. \t|\n",
    "| **star_rating** \t| The 1-5 star rating of the review. \t|\n",
    "\n",
    "<br>\n",
    "\n",
    "The column which we will need to predict is `star_rating`, which contains integer values from 1 to 5 (inclusive). While the nature of this problem is ordinal regression, for simplicity in this project, we will only treat it as a multi-class classification problem. In other words, we assume each review is associated with one label (1, 2, 3, 4 or 5), and attempt to predict a review's label based on its content and metadata.\n",
    "\n",
    "We provide the starting code to read the data for you. Note that there are some malformed rows in the original tsv file, so we set `error_bad_lines` to `False`."
   ]
  },
  {
   "cell_type": "code",
   "execution_count": 2,
   "metadata": {},
   "outputs": [],
   "source": [
    "def read_data():\n",
    "    return pd.read_csv(\"amazon_reviews.tsv\", sep=\"\\t\", header=0, error_bad_lines=False, dtype={\n",
    "        \"marketplace\": str,\n",
    "        \"customer_id\":str,\n",
    "        \"review_id\":str,\n",
    "        \"product_id\":str,\n",
    "        \"product_parent\":str,\n",
    "        \"product_title\":str,\n",
    "        \"product_category\":str,\n",
    "        \"star_rating\":int,\n",
    "        \"helpful_votes\":int,\n",
    "        \"total_votes\":int,\n",
    "        \"vine\":str,\n",
    "        \"verified_purchase\":str,\n",
    "        \"review_headline\":str,\n",
    "        \"review_body\":str,\n",
    "        \"review_date\":str\n",
    "    })\n",
    "\n",
    "df_reviews = read_data()"
   ]
  },
  {
   "cell_type": "markdown",
   "metadata": {
    "colab_type": "text",
    "id": "fAwc7CV8iaFn"
   },
   "source": [
    "## Part A: Data Preprocessing\n",
    "Since this project only involves review rating prediction, we can remove the following irrelevant features:\n",
    "\n",
    "* `marketplace`\n",
    "* `customer_id`\n",
    "* `review_id` \n",
    "* `product_id`\n",
    "* `product_parent`\n",
    "* `product_category`(since all the products belong to the same category)\n",
    "* `review_date`"
   ]
  },
  {
   "cell_type": "code",
   "execution_count": 3,
   "metadata": {},
   "outputs": [],
   "source": [
    "## YOUR DATA PREPROCESSING CODE HERE ##\n",
    "df_temp = df_reviews.copy()\n",
    "df_temp = df_temp.drop(['marketplace', 'customer_id', 'review_id', 'product_id', 'product_parent', 'product_category', 'review_date'], axis = 1)"
   ]
  },
  {
   "cell_type": "code",
   "execution_count": 4,
   "metadata": {},
   "outputs": [
    {
     "data": {
      "text/html": [
       "<div>\n",
       "<style scoped>\n",
       "    .dataframe tbody tr th:only-of-type {\n",
       "        vertical-align: middle;\n",
       "    }\n",
       "\n",
       "    .dataframe tbody tr th {\n",
       "        vertical-align: top;\n",
       "    }\n",
       "\n",
       "    .dataframe thead th {\n",
       "        text-align: right;\n",
       "    }\n",
       "</style>\n",
       "<table border=\"1\" class=\"dataframe\">\n",
       "  <thead>\n",
       "    <tr style=\"text-align: right;\">\n",
       "      <th></th>\n",
       "      <th>product_title</th>\n",
       "      <th>star_rating</th>\n",
       "      <th>helpful_votes</th>\n",
       "      <th>total_votes</th>\n",
       "      <th>vine</th>\n",
       "      <th>verified_purchase</th>\n",
       "      <th>review_headline</th>\n",
       "      <th>review_body</th>\n",
       "    </tr>\n",
       "  </thead>\n",
       "  <tbody>\n",
       "    <tr>\n",
       "      <th>0</th>\n",
       "      <td>Jawbone Jambox Wireless Bluetooth Speaker - Bl...</td>\n",
       "      <td>5</td>\n",
       "      <td>0</td>\n",
       "      <td>0</td>\n",
       "      <td>N</td>\n",
       "      <td>Y</td>\n",
       "      <td>Good thing in a small package</td>\n",
       "      <td>I bought this as a gift for my son and he real...</td>\n",
       "    </tr>\n",
       "    <tr>\n",
       "      <th>1</th>\n",
       "      <td>Green Silicone skin sport nano case for Apple ...</td>\n",
       "      <td>3</td>\n",
       "      <td>6</td>\n",
       "      <td>6</td>\n",
       "      <td>N</td>\n",
       "      <td>N</td>\n",
       "      <td>Good enough</td>\n",
       "      <td>I like this case as it is secure and I can han...</td>\n",
       "    </tr>\n",
       "    <tr>\n",
       "      <th>2</th>\n",
       "      <td>original brand new proscan TV remote control F...</td>\n",
       "      <td>1</td>\n",
       "      <td>0</td>\n",
       "      <td>0</td>\n",
       "      <td>N</td>\n",
       "      <td>Y</td>\n",
       "      <td>... it to even though it was advertised to wor...</td>\n",
       "      <td>It showed up on time but the remote did not pr...</td>\n",
       "    </tr>\n",
       "    <tr>\n",
       "      <th>3</th>\n",
       "      <td>Bluetooth Headphones - Fit Acoustics Wireless ...</td>\n",
       "      <td>5</td>\n",
       "      <td>1</td>\n",
       "      <td>1</td>\n",
       "      <td>N</td>\n",
       "      <td>Y</td>\n",
       "      <td>Excellent product excellent customer service</td>\n",
       "      <td>Excellent product excellent customer service. ...</td>\n",
       "    </tr>\n",
       "    <tr>\n",
       "      <th>4</th>\n",
       "      <td>TsirTech 18 Items Luxury Accessory Bundle for ...</td>\n",
       "      <td>5</td>\n",
       "      <td>0</td>\n",
       "      <td>0</td>\n",
       "      <td>N</td>\n",
       "      <td>Y</td>\n",
       "      <td>great bundle, love the texting glove,</td>\n",
       "      <td>Great bundle,everything works,very satisfied w...</td>\n",
       "    </tr>\n",
       "    <tr>\n",
       "      <th>...</th>\n",
       "      <td>...</td>\n",
       "      <td>...</td>\n",
       "      <td>...</td>\n",
       "      <td>...</td>\n",
       "      <td>...</td>\n",
       "      <td>...</td>\n",
       "      <td>...</td>\n",
       "      <td>...</td>\n",
       "    </tr>\n",
       "    <tr>\n",
       "      <th>99904</th>\n",
       "      <td>DBTech 175 Watt Portable Micro Power Inverter ...</td>\n",
       "      <td>1</td>\n",
       "      <td>4</td>\n",
       "      <td>4</td>\n",
       "      <td>N</td>\n",
       "      <td>Y</td>\n",
       "      <td>NOT GOOD for Older cars. The tube is TOO BIG!</td>\n",
       "      <td>After a few major thunderstorms and electrical...</td>\n",
       "    </tr>\n",
       "    <tr>\n",
       "      <th>99905</th>\n",
       "      <td>Sony US18650VTC4 18650 VTC4 2100mAh 30A Rechar...</td>\n",
       "      <td>1</td>\n",
       "      <td>1</td>\n",
       "      <td>1</td>\n",
       "      <td>N</td>\n",
       "      <td>Y</td>\n",
       "      <td>Waste of money</td>\n",
       "      <td>It doesn't hold a charge for more than an hour...</td>\n",
       "    </tr>\n",
       "    <tr>\n",
       "      <th>99906</th>\n",
       "      <td>Pyramid - 4'' X 10'' 300 Watts Three-Way Speak...</td>\n",
       "      <td>4</td>\n",
       "      <td>0</td>\n",
       "      <td>0</td>\n",
       "      <td>N</td>\n",
       "      <td>Y</td>\n",
       "      <td>Pyramid - 4'' X 10''</td>\n",
       "      <td>Their Pyramids not the best, but far from the ...</td>\n",
       "    </tr>\n",
       "    <tr>\n",
       "      <th>99907</th>\n",
       "      <td>AmazonBasics High-Speed HDMI Cable - 6.5 Feet ...</td>\n",
       "      <td>5</td>\n",
       "      <td>0</td>\n",
       "      <td>0</td>\n",
       "      <td>N</td>\n",
       "      <td>Y</td>\n",
       "      <td>I love FireTV.</td>\n",
       "      <td>This is number three.. I love FireTV.</td>\n",
       "    </tr>\n",
       "    <tr>\n",
       "      <th>99908</th>\n",
       "      <td>2 GB MP3 Player G6 with Build-in Speaker for K...</td>\n",
       "      <td>5</td>\n",
       "      <td>3</td>\n",
       "      <td>4</td>\n",
       "      <td>N</td>\n",
       "      <td>Y</td>\n",
       "      <td>We have also purchased another 4 honey bunnies...</td>\n",
       "      <td>We bought our first honey bunny for our daught...</td>\n",
       "    </tr>\n",
       "  </tbody>\n",
       "</table>\n",
       "<p>99909 rows × 8 columns</p>\n",
       "</div>"
      ],
      "text/plain": [
       "                                           product_title  star_rating  \\\n",
       "0      Jawbone Jambox Wireless Bluetooth Speaker - Bl...            5   \n",
       "1      Green Silicone skin sport nano case for Apple ...            3   \n",
       "2      original brand new proscan TV remote control F...            1   \n",
       "3      Bluetooth Headphones - Fit Acoustics Wireless ...            5   \n",
       "4      TsirTech 18 Items Luxury Accessory Bundle for ...            5   \n",
       "...                                                  ...          ...   \n",
       "99904  DBTech 175 Watt Portable Micro Power Inverter ...            1   \n",
       "99905  Sony US18650VTC4 18650 VTC4 2100mAh 30A Rechar...            1   \n",
       "99906  Pyramid - 4'' X 10'' 300 Watts Three-Way Speak...            4   \n",
       "99907  AmazonBasics High-Speed HDMI Cable - 6.5 Feet ...            5   \n",
       "99908  2 GB MP3 Player G6 with Build-in Speaker for K...            5   \n",
       "\n",
       "       helpful_votes  total_votes vine verified_purchase  \\\n",
       "0                  0            0    N                 Y   \n",
       "1                  6            6    N                 N   \n",
       "2                  0            0    N                 Y   \n",
       "3                  1            1    N                 Y   \n",
       "4                  0            0    N                 Y   \n",
       "...              ...          ...  ...               ...   \n",
       "99904              4            4    N                 Y   \n",
       "99905              1            1    N                 Y   \n",
       "99906              0            0    N                 Y   \n",
       "99907              0            0    N                 Y   \n",
       "99908              3            4    N                 Y   \n",
       "\n",
       "                                         review_headline  \\\n",
       "0                          Good thing in a small package   \n",
       "1                                            Good enough   \n",
       "2      ... it to even though it was advertised to wor...   \n",
       "3           Excellent product excellent customer service   \n",
       "4                  great bundle, love the texting glove,   \n",
       "...                                                  ...   \n",
       "99904      NOT GOOD for Older cars. The tube is TOO BIG!   \n",
       "99905                                     Waste of money   \n",
       "99906                               Pyramid - 4'' X 10''   \n",
       "99907                                     I love FireTV.   \n",
       "99908  We have also purchased another 4 honey bunnies...   \n",
       "\n",
       "                                             review_body  \n",
       "0      I bought this as a gift for my son and he real...  \n",
       "1      I like this case as it is secure and I can han...  \n",
       "2      It showed up on time but the remote did not pr...  \n",
       "3      Excellent product excellent customer service. ...  \n",
       "4      Great bundle,everything works,very satisfied w...  \n",
       "...                                                  ...  \n",
       "99904  After a few major thunderstorms and electrical...  \n",
       "99905  It doesn't hold a charge for more than an hour...  \n",
       "99906  Their Pyramids not the best, but far from the ...  \n",
       "99907              This is number three.. I love FireTV.  \n",
       "99908  We bought our first honey bunny for our daught...  \n",
       "\n",
       "[99909 rows x 8 columns]"
      ]
     },
     "execution_count": 4,
     "metadata": {},
     "output_type": "execute_result"
    }
   ],
   "source": [
    "df_temp"
   ]
  },
  {
   "cell_type": "code",
   "execution_count": 5,
   "metadata": {},
   "outputs": [
    {
     "data": {
      "text/plain": [
       "product_title        0\n",
       "star_rating          0\n",
       "helpful_votes        0\n",
       "total_votes          0\n",
       "vine                 0\n",
       "verified_purchase    0\n",
       "review_headline      0\n",
       "review_body          0\n",
       "dtype: int64"
      ]
     },
     "execution_count": 5,
     "metadata": {},
     "output_type": "execute_result"
    }
   ],
   "source": [
    "#check for null values\n",
    "df_temp.isna().sum()"
   ]
  },
  {
   "cell_type": "code",
   "execution_count": 6,
   "metadata": {},
   "outputs": [
    {
     "data": {
      "text/plain": [
       "product_title        29\n",
       "star_rating          29\n",
       "helpful_votes        29\n",
       "total_votes          29\n",
       "vine                 29\n",
       "verified_purchase    29\n",
       "review_headline      29\n",
       "review_body          29\n",
       "dtype: int64"
      ]
     },
     "execution_count": 6,
     "metadata": {},
     "output_type": "execute_result"
    }
   ],
   "source": [
    "#check for duplicate values. Here, we can see a total of 29 duplicate rows are found\n",
    "\n",
    "df_temp[df_temp.duplicated()].count()"
   ]
  },
  {
   "cell_type": "code",
   "execution_count": 7,
   "metadata": {
    "scrolled": true
   },
   "outputs": [
    {
     "data": {
      "text/html": [
       "<div>\n",
       "<style scoped>\n",
       "    .dataframe tbody tr th:only-of-type {\n",
       "        vertical-align: middle;\n",
       "    }\n",
       "\n",
       "    .dataframe tbody tr th {\n",
       "        vertical-align: top;\n",
       "    }\n",
       "\n",
       "    .dataframe thead th {\n",
       "        text-align: right;\n",
       "    }\n",
       "</style>\n",
       "<table border=\"1\" class=\"dataframe\">\n",
       "  <thead>\n",
       "    <tr style=\"text-align: right;\">\n",
       "      <th></th>\n",
       "      <th>product_title</th>\n",
       "      <th>star_rating</th>\n",
       "      <th>helpful_votes</th>\n",
       "      <th>total_votes</th>\n",
       "      <th>vine</th>\n",
       "      <th>verified_purchase</th>\n",
       "      <th>review_headline</th>\n",
       "      <th>review_body</th>\n",
       "    </tr>\n",
       "  </thead>\n",
       "  <tbody>\n",
       "    <tr>\n",
       "      <th>0</th>\n",
       "      <td>Jawbone Jambox Wireless Bluetooth Speaker - Bl...</td>\n",
       "      <td>5</td>\n",
       "      <td>0</td>\n",
       "      <td>0</td>\n",
       "      <td>N</td>\n",
       "      <td>Y</td>\n",
       "      <td>Good thing in a small package</td>\n",
       "      <td>I bought this as a gift for my son and he real...</td>\n",
       "    </tr>\n",
       "    <tr>\n",
       "      <th>1</th>\n",
       "      <td>Green Silicone skin sport nano case for Apple ...</td>\n",
       "      <td>3</td>\n",
       "      <td>6</td>\n",
       "      <td>6</td>\n",
       "      <td>N</td>\n",
       "      <td>N</td>\n",
       "      <td>Good enough</td>\n",
       "      <td>I like this case as it is secure and I can han...</td>\n",
       "    </tr>\n",
       "    <tr>\n",
       "      <th>2</th>\n",
       "      <td>original brand new proscan TV remote control F...</td>\n",
       "      <td>1</td>\n",
       "      <td>0</td>\n",
       "      <td>0</td>\n",
       "      <td>N</td>\n",
       "      <td>Y</td>\n",
       "      <td>... it to even though it was advertised to wor...</td>\n",
       "      <td>It showed up on time but the remote did not pr...</td>\n",
       "    </tr>\n",
       "    <tr>\n",
       "      <th>3</th>\n",
       "      <td>Bluetooth Headphones - Fit Acoustics Wireless ...</td>\n",
       "      <td>5</td>\n",
       "      <td>1</td>\n",
       "      <td>1</td>\n",
       "      <td>N</td>\n",
       "      <td>Y</td>\n",
       "      <td>Excellent product excellent customer service</td>\n",
       "      <td>Excellent product excellent customer service. ...</td>\n",
       "    </tr>\n",
       "    <tr>\n",
       "      <th>4</th>\n",
       "      <td>TsirTech 18 Items Luxury Accessory Bundle for ...</td>\n",
       "      <td>5</td>\n",
       "      <td>0</td>\n",
       "      <td>0</td>\n",
       "      <td>N</td>\n",
       "      <td>Y</td>\n",
       "      <td>great bundle, love the texting glove,</td>\n",
       "      <td>Great bundle,everything works,very satisfied w...</td>\n",
       "    </tr>\n",
       "    <tr>\n",
       "      <th>...</th>\n",
       "      <td>...</td>\n",
       "      <td>...</td>\n",
       "      <td>...</td>\n",
       "      <td>...</td>\n",
       "      <td>...</td>\n",
       "      <td>...</td>\n",
       "      <td>...</td>\n",
       "      <td>...</td>\n",
       "    </tr>\n",
       "    <tr>\n",
       "      <th>99904</th>\n",
       "      <td>DBTech 175 Watt Portable Micro Power Inverter ...</td>\n",
       "      <td>1</td>\n",
       "      <td>4</td>\n",
       "      <td>4</td>\n",
       "      <td>N</td>\n",
       "      <td>Y</td>\n",
       "      <td>NOT GOOD for Older cars. The tube is TOO BIG!</td>\n",
       "      <td>After a few major thunderstorms and electrical...</td>\n",
       "    </tr>\n",
       "    <tr>\n",
       "      <th>99905</th>\n",
       "      <td>Sony US18650VTC4 18650 VTC4 2100mAh 30A Rechar...</td>\n",
       "      <td>1</td>\n",
       "      <td>1</td>\n",
       "      <td>1</td>\n",
       "      <td>N</td>\n",
       "      <td>Y</td>\n",
       "      <td>Waste of money</td>\n",
       "      <td>It doesn't hold a charge for more than an hour...</td>\n",
       "    </tr>\n",
       "    <tr>\n",
       "      <th>99906</th>\n",
       "      <td>Pyramid - 4'' X 10'' 300 Watts Three-Way Speak...</td>\n",
       "      <td>4</td>\n",
       "      <td>0</td>\n",
       "      <td>0</td>\n",
       "      <td>N</td>\n",
       "      <td>Y</td>\n",
       "      <td>Pyramid - 4'' X 10''</td>\n",
       "      <td>Their Pyramids not the best, but far from the ...</td>\n",
       "    </tr>\n",
       "    <tr>\n",
       "      <th>99907</th>\n",
       "      <td>AmazonBasics High-Speed HDMI Cable - 6.5 Feet ...</td>\n",
       "      <td>5</td>\n",
       "      <td>0</td>\n",
       "      <td>0</td>\n",
       "      <td>N</td>\n",
       "      <td>Y</td>\n",
       "      <td>I love FireTV.</td>\n",
       "      <td>This is number three.. I love FireTV.</td>\n",
       "    </tr>\n",
       "    <tr>\n",
       "      <th>99908</th>\n",
       "      <td>2 GB MP3 Player G6 with Build-in Speaker for K...</td>\n",
       "      <td>5</td>\n",
       "      <td>3</td>\n",
       "      <td>4</td>\n",
       "      <td>N</td>\n",
       "      <td>Y</td>\n",
       "      <td>We have also purchased another 4 honey bunnies...</td>\n",
       "      <td>We bought our first honey bunny for our daught...</td>\n",
       "    </tr>\n",
       "  </tbody>\n",
       "</table>\n",
       "<p>99880 rows × 8 columns</p>\n",
       "</div>"
      ],
      "text/plain": [
       "                                           product_title  star_rating  \\\n",
       "0      Jawbone Jambox Wireless Bluetooth Speaker - Bl...            5   \n",
       "1      Green Silicone skin sport nano case for Apple ...            3   \n",
       "2      original brand new proscan TV remote control F...            1   \n",
       "3      Bluetooth Headphones - Fit Acoustics Wireless ...            5   \n",
       "4      TsirTech 18 Items Luxury Accessory Bundle for ...            5   \n",
       "...                                                  ...          ...   \n",
       "99904  DBTech 175 Watt Portable Micro Power Inverter ...            1   \n",
       "99905  Sony US18650VTC4 18650 VTC4 2100mAh 30A Rechar...            1   \n",
       "99906  Pyramid - 4'' X 10'' 300 Watts Three-Way Speak...            4   \n",
       "99907  AmazonBasics High-Speed HDMI Cable - 6.5 Feet ...            5   \n",
       "99908  2 GB MP3 Player G6 with Build-in Speaker for K...            5   \n",
       "\n",
       "       helpful_votes  total_votes vine verified_purchase  \\\n",
       "0                  0            0    N                 Y   \n",
       "1                  6            6    N                 N   \n",
       "2                  0            0    N                 Y   \n",
       "3                  1            1    N                 Y   \n",
       "4                  0            0    N                 Y   \n",
       "...              ...          ...  ...               ...   \n",
       "99904              4            4    N                 Y   \n",
       "99905              1            1    N                 Y   \n",
       "99906              0            0    N                 Y   \n",
       "99907              0            0    N                 Y   \n",
       "99908              3            4    N                 Y   \n",
       "\n",
       "                                         review_headline  \\\n",
       "0                          Good thing in a small package   \n",
       "1                                            Good enough   \n",
       "2      ... it to even though it was advertised to wor...   \n",
       "3           Excellent product excellent customer service   \n",
       "4                  great bundle, love the texting glove,   \n",
       "...                                                  ...   \n",
       "99904      NOT GOOD for Older cars. The tube is TOO BIG!   \n",
       "99905                                     Waste of money   \n",
       "99906                               Pyramid - 4'' X 10''   \n",
       "99907                                     I love FireTV.   \n",
       "99908  We have also purchased another 4 honey bunnies...   \n",
       "\n",
       "                                             review_body  \n",
       "0      I bought this as a gift for my son and he real...  \n",
       "1      I like this case as it is secure and I can han...  \n",
       "2      It showed up on time but the remote did not pr...  \n",
       "3      Excellent product excellent customer service. ...  \n",
       "4      Great bundle,everything works,very satisfied w...  \n",
       "...                                                  ...  \n",
       "99904  After a few major thunderstorms and electrical...  \n",
       "99905  It doesn't hold a charge for more than an hour...  \n",
       "99906  Their Pyramids not the best, but far from the ...  \n",
       "99907              This is number three.. I love FireTV.  \n",
       "99908  We bought our first honey bunny for our daught...  \n",
       "\n",
       "[99880 rows x 8 columns]"
      ]
     },
     "execution_count": 7,
     "metadata": {},
     "output_type": "execute_result"
    }
   ],
   "source": [
    "# duplicate records are dropped\n",
    "\n",
    "df_temp = df_temp.drop_duplicates()\n",
    "df_temp"
   ]
  },
  {
   "cell_type": "code",
   "execution_count": 8,
   "metadata": {},
   "outputs": [],
   "source": [
    "# Performing the following preprocessing tasks:\n",
    "    \n",
    "#    1. Remove all html tags.\n",
    "#    2. Clean punctuations and special characters.\n",
    "#    3. Apply lower casing.\n",
    "#    4. Tokenize the content, then apply stemming or lemmatization to each token.\n",
    "#    5. Remove English stopwords.\n",
    "\n",
    "def preprocess(review):\n",
    "    text = re.sub('<.*?>', '', review.lower().strip())\n",
    "    text = re.sub('[^\\w\\s]', ' ', text)\n",
    "    \n",
    "    result = ''\n",
    "    tokens = nltk.word_tokenize(text)\n",
    "    for t in tokens:\n",
    "        lemma = lemmatizer.lemmatize(t)\n",
    "        if lemma not in english_stopwords:\n",
    "            result += lemma + ' '\n",
    "            \n",
    "    return result\n",
    "\n",
    "\n",
    "df_clean = df_temp.copy() \n",
    "df_clean['review_body'] = df_clean['review_body'].apply(lambda x : preprocess(x))\n",
    "    "
   ]
  },
  {
   "cell_type": "markdown",
   "metadata": {},
   "source": [
    "## Part B: Exploratory Data Analysis"
   ]
  },
  {
   "cell_type": "code",
   "execution_count": 9,
   "metadata": {},
   "outputs": [
    {
     "data": {
      "text/plain": [
       "Index(['product_title', 'star_rating', 'helpful_votes', 'total_votes', 'vine',\n",
       "       'verified_purchase', 'review_headline', 'review_body'],\n",
       "      dtype='object')"
      ]
     },
     "execution_count": 9,
     "metadata": {},
     "output_type": "execute_result"
    }
   ],
   "source": [
    "df_clean.columns"
   ]
  },
  {
   "cell_type": "code",
   "execution_count": 10,
   "metadata": {
    "scrolled": true
   },
   "outputs": [
    {
     "data": {
      "text/plain": [
       "<matplotlib.axes._subplots.AxesSubplot at 0x7f34406ae320>"
      ]
     },
     "execution_count": 10,
     "metadata": {},
     "output_type": "execute_result"
    },
    {
     "data": {
      "image/png": "[encoded data removed]",
      "text/plain": [
       "<Figure size 432x288 with 1 Axes>"
      ]
     },
     "metadata": {
      "needs_background": "light"
     },
     "output_type": "display_data"
    }
   ],
   "source": [
    "## YOUR EXPLORATORY DATA ANALYSIS CODE HERE ##\n",
    "\n",
    "sns.boxplot(x = df_clean['star_rating'])"
   ]
  },
  {
   "cell_type": "code",
   "execution_count": 11,
   "metadata": {},
   "outputs": [
    {
     "data": {
      "text/plain": [
       "<matplotlib.axes._subplots.AxesSubplot at 0x7f3436083a20>"
      ]
     },
     "execution_count": 11,
     "metadata": {},
     "output_type": "execute_result"
    },
    {
     "data": {
      "image/png": "[encoded data removed]",
      "text/plain": [
       "<Figure size 432x288 with 1 Axes>"
      ]
     },
     "metadata": {
      "needs_background": "light"
     },
     "output_type": "display_data"
    }
   ],
   "source": [
    "sns.boxplot(x = df_clean['helpful_votes'])"
   ]
  },
  {
   "cell_type": "code",
   "execution_count": 12,
   "metadata": {
    "scrolled": true
   },
   "outputs": [
    {
     "data": {
      "text/plain": [
       "<matplotlib.axes._subplots.AxesSubplot at 0x7f3435fee198>"
      ]
     },
     "execution_count": 12,
     "metadata": {},
     "output_type": "execute_result"
    },
    {
     "data": {
      "image/png": "[encoded data removed]",
      "text/plain": [
       "<Figure size 432x288 with 1 Axes>"
      ]
     },
     "metadata": {
      "needs_background": "light"
     },
     "output_type": "display_data"
    }
   ],
   "source": [
    "sns.boxplot(x = df_clean['total_votes'])"
   ]
  },
  {
   "cell_type": "code",
   "execution_count": 13,
   "metadata": {
    "scrolled": false
   },
   "outputs": [
    {
     "data": {
      "text/plain": [
       "(array([99569.,     0.,     0.,     0.,     0.,     0.,     0.,     0.,\n",
       "            0.,   311.]),\n",
       " array([0. , 0.1, 0.2, 0.3, 0.4, 0.5, 0.6, 0.7, 0.8, 0.9, 1. ]),\n",
       " <a list of 10 Patch objects>)"
      ]
     },
     "execution_count": 13,
     "metadata": {},
     "output_type": "execute_result"
    },
    {
     "data": {
      "image/png": "[encoded data removed]",
      "text/plain": [
       "<Figure size 720x360 with 2 Axes>"
      ]
     },
     "metadata": {
      "needs_background": "light"
     },
     "output_type": "display_data"
    }
   ],
   "source": [
    "plt.figure(figsize = (10,5))\n",
    "plt.subplot(1, 2, 1)\n",
    "plt.hist(df_clean['verified_purchase'])\n",
    "plt.subplot(1, 2, 2)\n",
    "plt.hist(df_clean['vine'])"
   ]
  },
  {
   "cell_type": "code",
   "execution_count": 14,
   "metadata": {
    "scrolled": true
   },
   "outputs": [
    {
     "data": {
      "text/html": [
       "<div>\n",
       "<style scoped>\n",
       "    .dataframe tbody tr th:only-of-type {\n",
       "        vertical-align: middle;\n",
       "    }\n",
       "\n",
       "    .dataframe tbody tr th {\n",
       "        vertical-align: top;\n",
       "    }\n",
       "\n",
       "    .dataframe thead th {\n",
       "        text-align: right;\n",
       "    }\n",
       "</style>\n",
       "<table border=\"1\" class=\"dataframe\">\n",
       "  <thead>\n",
       "    <tr style=\"text-align: right;\">\n",
       "      <th></th>\n",
       "      <th>star_rating</th>\n",
       "      <th>helpful_votes</th>\n",
       "      <th>total_votes</th>\n",
       "    </tr>\n",
       "  </thead>\n",
       "  <tbody>\n",
       "    <tr>\n",
       "      <th>star_rating</th>\n",
       "      <td>1.000000</td>\n",
       "      <td>-0.017211</td>\n",
       "      <td>-0.040931</td>\n",
       "    </tr>\n",
       "    <tr>\n",
       "      <th>helpful_votes</th>\n",
       "      <td>-0.017211</td>\n",
       "      <td>1.000000</td>\n",
       "      <td>0.981421</td>\n",
       "    </tr>\n",
       "    <tr>\n",
       "      <th>total_votes</th>\n",
       "      <td>-0.040931</td>\n",
       "      <td>0.981421</td>\n",
       "      <td>1.000000</td>\n",
       "    </tr>\n",
       "  </tbody>\n",
       "</table>\n",
       "</div>"
      ],
      "text/plain": [
       "               star_rating  helpful_votes  total_votes\n",
       "star_rating       1.000000      -0.017211    -0.040931\n",
       "helpful_votes    -0.017211       1.000000     0.981421\n",
       "total_votes      -0.040931       0.981421     1.000000"
      ]
     },
     "execution_count": 14,
     "metadata": {},
     "output_type": "execute_result"
    }
   ],
   "source": [
    "df_clean.corr()"
   ]
  },
  {
   "cell_type": "code",
   "execution_count": 18,
   "metadata": {},
   "outputs": [
    {
     "data": {
      "text/plain": [
       "(array([14146.,     0.,  6373.,     0.,     0.,  8482.,     0., 17348.,\n",
       "            0., 53531.]),\n",
       " array([1. , 1.4, 1.8, 2.2, 2.6, 3. , 3.4, 3.8, 4.2, 4.6, 5. ]),\n",
       " <a list of 10 Patch objects>)"
      ]
     },
     "execution_count": 18,
     "metadata": {},
     "output_type": "execute_result"
    },
    {
     "data": {
      "image/png": "[encoded data removed]",
      "text/plain": [
       "<Figure size 432x288 with 1 Axes>"
      ]
     },
     "metadata": {
      "needs_background": "light"
     },
     "output_type": "display_data"
    }
   ],
   "source": [
    "plt.hist(df_clean['star_rating'])"
   ]
  },
  {
   "cell_type": "markdown",
   "metadata": {
    "colab_type": "text",
    "id": "beCwF1HUiaGL"
   },
   "source": [
    "## Part C: Feature Construction"
   ]
  },
  {
   "cell_type": "code",
   "execution_count": 19,
   "metadata": {},
   "outputs": [],
   "source": [
    "## YOUR FEATURE CONSTRUCTION CODE HERE ##\n",
    "X = df_clean['review_body']\n",
    "y = df_clean['star_rating']\n",
    "X_train, X_test, y_train, y_test = train_test_split(X, y, test_size = 0.15)"
   ]
  },
  {
   "cell_type": "code",
   "execution_count": 20,
   "metadata": {},
   "outputs": [],
   "source": [
    "cv = CountVectorizer()\n",
    "X_data = cv.fit_transform(X_train)"
   ]
  },
  {
   "cell_type": "markdown",
   "metadata": {
    "colab_type": "text",
    "id": "RqarYE26atSi"
   },
   "source": [
    "## Part D: Model Training and Evaluation"
   ]
  },
  {
   "cell_type": "code",
   "execution_count": 22,
   "metadata": {},
   "outputs": [
    {
     "data": {
      "text/plain": [
       "LogisticRegression(C=1.0, class_weight=None, dual=False, fit_intercept=True,\n",
       "                   intercept_scaling=1, l1_ratio=None, max_iter=100,\n",
       "                   multi_class='auto', n_jobs=None, penalty='l2',\n",
       "                   random_state=None, solver='newton-cg', tol=0.0001, verbose=0,\n",
       "                   warm_start=False)"
      ]
     },
     "execution_count": 22,
     "metadata": {},
     "output_type": "execute_result"
    }
   ],
   "source": [
    "## YOUR MODEL TRAINING CODE HERE ##\n",
    "log_reg = LogisticRegression(solver = 'newton-cg')\n",
    "log_reg.fit(X_data, y_train)"
   ]
  },
  {
   "cell_type": "code",
   "execution_count": 23,
   "metadata": {},
   "outputs": [],
   "source": [
    "X_data_cv = cv.transform(X_test)\n",
    "y_pred = log_reg.predict(X_data_cv)"
   ]
  },
  {
   "cell_type": "code",
   "execution_count": 24,
   "metadata": {},
   "outputs": [
    {
     "data": {
      "text/plain": [
       "0.6401682018422107"
      ]
     },
     "execution_count": 24,
     "metadata": {},
     "output_type": "execute_result"
    }
   ],
   "source": [
    "metrics.accuracy_score(y_test.values, y_pred)"
   ]
  },
  {
   "cell_type": "code",
   "execution_count": 25,
   "metadata": {},
   "outputs": [
    {
     "data": {
      "text/plain": [
       "LogisticRegression(C=1.0, class_weight=None, dual=False, fit_intercept=True,\n",
       "                   intercept_scaling=1, l1_ratio=None, max_iter=100,\n",
       "                   multi_class='auto', n_jobs=None, penalty='l2',\n",
       "                   random_state=None, solver='newton-cg', tol=0.0001, verbose=0,\n",
       "                   warm_start=False)"
      ]
     },
     "execution_count": 25,
     "metadata": {},
     "output_type": "execute_result"
    }
   ],
   "source": [
    "## YOUR MODEL SAVING CODE HERE ##\n",
    "X_data_final = cv.fit_transform(df_clean['review_body'])\n",
    "y_data_final = df_clean['star_rating']\n",
    "log_reg.fit(X_data_final, y_data_final)"
   ]
  },
  {
   "cell_type": "code",
   "execution_count": 26,
   "metadata": {},
   "outputs": [],
   "source": [
    "pickle.dump(cv, open('./models/model.pkl', 'wb'))\n",
    "pickle.dump(log_reg, open('./models/final_model.pkl', 'wb'))"
   ]
  },
  {
   "cell_type": "markdown",
   "metadata": {
    "colab_type": "text",
    "id": "euNySRUChixb"
   },
   "source": [
    "## Part E: Model Deployment\n",
    "\n",
    "Now we will deploy your model to a local endpoint, test it on some sample data, and then deploy the model to a public endpoint."
   ]
  },
  {
   "cell_type": "code",
   "execution_count": 28,
   "metadata": {},
   "outputs": [],
   "source": [
    "## YOUR ENVIRONMENT SETUP CODE HERE ##\n",
    "\n",
    "import azureml.core\n",
    "from azureml.core.workspace import Workspace\n",
    "from azureml.core.model import Model\n",
    "from azureml.core.webservice import AciWebservice\n",
    "from azureml.core.model import InferenceConfig\n",
    "from azureml.core.webservice import Webservice\n",
    "from azureml.core.environment import Environment\n",
    "from azureml.core.webservice import LocalWebservice"
   ]
  },
  {
   "cell_type": "code",
   "execution_count": 29,
   "metadata": {},
   "outputs": [],
   "source": [
    "workspace = Workspace.from_config()"
   ]
  },
  {
   "cell_type": "code",
   "execution_count": 30,
   "metadata": {},
   "outputs": [
    {
     "name": "stdout",
     "output_type": "stream",
     "text": [
      "Registering model final_exam_model\n"
     ]
    }
   ],
   "source": [
    "final_model = Model.register(workspace = workspace, model_path = './models', model_name = 'final_exam_model')"
   ]
  },
  {
   "cell_type": "code",
   "execution_count": 56,
   "metadata": {},
   "outputs": [
    {
     "name": "stdout",
     "output_type": "stream",
     "text": [
      "Overwriting ./score.py\n"
     ]
    }
   ],
   "source": [
    "%%writefile ./score.py\n",
    "## YOUR SCORE.PY CODE HERE ##\n",
    "\n",
    "import pickle, re, json, os\n",
    "import numpy as np\n",
    "import nltk\n",
    "from nltk.stem.wordnet import WordNetLemmatizer \n",
    "from sklearn.feature_extraction.text import CountVectorizer\n",
    "from sklearn.model_selection import train_test_split\n",
    "from sklearn.linear_model import LogisticRegression\n",
    "from azureml.core.model import Model\n",
    "\n",
    "\n",
    "def init():\n",
    "    global log_reg\n",
    "    global cv\n",
    "    model_path  = Model.get_model_path('final_exam_model')\n",
    "    log_path = os.path.join(model_path, 'final_model.pkl')\n",
    "    with open(log_path, 'rb') as file:\n",
    "        log_reg = pickle.load(file)\n",
    "    cv_path = os.path.join(model_path, 'model.pkl')\n",
    "    with open(cv_path, 'rb') as file:\n",
    "        cv = pickle.load(file)\n",
    "    nltk.download(\"stopwords\", quiet = True)\n",
    "    nltk.download('punkt')\n",
    "    nltk.download('wordnet')\n",
    "    \n",
    "    \n",
    "def run(input_data):\n",
    "    english_stopwords = set(nltk.corpus.stopwords.words('english'))\n",
    "    lemmatizer = WordNetLemmatizer()\n",
    "    input_json = json.loads(input_data)\n",
    "    review_list = []\n",
    "    for i in range(input_json['n_reviews']):\n",
    "        review = input_json['reviews'][i]['review_body']\n",
    "        text = re.sub('<.*?>', '', review.lower().strip())\n",
    "        text = re.sub('[^\\w\\s]', ' ', text)\n",
    "        result = ''\n",
    "        tokens = nltk.word_tokenize(text)\n",
    "        for t in tokens:\n",
    "            lemma = lemmatizer.lemmatize(t)\n",
    "            if lemma not in english_stopwords:\n",
    "                result += lemma + ' '\n",
    "        review_list.append(result)\n",
    "    X_data_cv = cv.transform(review_list)\n",
    "    outputs = log_reg.predict(X_data_cv).tolist()\n",
    "    response_content = {'predictions': outputs}\n",
    "    return response_content"
   ]
  },
  {
   "cell_type": "code",
   "execution_count": 57,
   "metadata": {},
   "outputs": [],
   "source": [
    "from azureml.core.conda_dependencies import CondaDependencies \n",
    "env_file = CondaDependencies.create(pip_packages = ['azureml-defaults', 'numpy', 'scikit-learn', 'nltk'])\n",
    "with open('myenv.yml', 'w') as file:\n",
    "    file.write(env_file.serialize_to_string())"
   ]
  },
  {
   "cell_type": "code",
   "execution_count": 58,
   "metadata": {},
   "outputs": [
    {
     "name": "stdout",
     "output_type": "stream",
     "text": [
      "Downloading model final_exam_model:8 to /tmp/azureml_2zca66kj/final_exam_model/8\n",
      "Generating Docker build context.\n",
      "Package creation Succeeded\n",
      "Logging into Docker registry ea8294aac11e4bb1a163674f7a1e364a.azurecr.io\n",
      "Logging into Docker registry ea8294aac11e4bb1a163674f7a1e364a.azurecr.io\n",
      "Building Docker image from Dockerfile...\n",
      "Step 1/5 : FROM ea8294aac11e4bb1a163674f7a1e364a.azurecr.io/azureml/azureml_b5f85b0874790893b2572168cd390f80\n",
      " ---> d414a3caf037\n",
      "Step 2/5 : COPY azureml-app /var/azureml-app\n",
      " ---> a3162d91dca7\n",
      "Step 3/5 : RUN mkdir -p '/var/azureml-app' && echo eyJhY2NvdW50Q29udGV4dCI6eyJzdWJzY3JpcHRpb25JZCI6IjAwYjcxMGRjLWJiN2ItNGQ3MC1hYWE1LTk3YjY2MjcwMDQyNCIsInJlc291cmNlR3JvdXBOYW1lIjoiZmluYWxleGFtIiwiYWNjb3VudE5hbWUiOiJmaW5hbGV4YW0iLCJ3b3Jrc3BhY2VJZCI6ImVhODI5NGFhLWMxMWUtNGJiMS1hMTYzLTY3NGY3YTFlMzY0YSJ9LCJtb2RlbHMiOnt9LCJtb2RlbHNJbmZvIjp7fX0= | base64 --decode > /var/azureml-app/model_config_map.json\n",
      " ---> Running in fbc1a2e12591\n",
      " ---> a56a4c5e9fc4\n",
      "Step 4/5 : RUN mv '/var/azureml-app/tmph32ngkg_.py' /var/azureml-app/main.py\n",
      " ---> Running in 6cb169e89550\n",
      " ---> 30e4d1a1e453\n",
      "Step 5/5 : CMD [\"runsvdir\",\"/var/runit\"]\n",
      " ---> Running in 317bcbd543e2\n",
      " ---> 63f508688ea2\n",
      "Successfully built 63f508688ea2\n",
      "Successfully tagged local-service:latest\n",
      "Container has been successfully cleaned up.\n",
      "Image sha256:1c6cf7096cde1e959b9b1d25e88ba28ed2e086e88cb618b5c32e3e11dae5a5c8 successfully removed.\n",
      "Starting Docker container...\n",
      "Docker container running.\n",
      "Checking container health...\n",
      "Local webservice is running at http://localhost:8891\n"
     ]
    }
   ],
   "source": [
    "myenv = Environment.from_conda_specification(name = 'myenv', file_path = 'myenv.yml')\n",
    "inference_config = InferenceConfig(source_directory = '.', entry_script = 'score.py', environment = myenv)\n",
    "local_deployment_target = LocalWebservice.deploy_configuration(port = 8891)\n",
    "local_service_model = Model.deploy(\n",
    "    workspace, 'local-service',\n",
    "    [final_model], inference_config, \n",
    "    local_deployment_target\n",
    ")\n",
    "local_service_model.wait_for_deployment(True)"
   ]
  },
  {
   "cell_type": "code",
   "execution_count": 59,
   "metadata": {},
   "outputs": [
    {
     "name": "stdout",
     "output_type": "stream",
     "text": [
      "2021-12-12T00:13:55,279339677+00:00 - iot-server/run \n",
      "2021-12-12T00:13:55,280273771+00:00 - rsyslog/run \n",
      "2021-12-12T00:13:55,282358259+00:00 - gunicorn/run \n",
      "2021-12-12T00:13:55,282617657+00:00 - nginx/run \n",
      "Dynamic Python package installation is disabled.\n",
      "Starting HTTP server\n",
      "EdgeHubConnectionString and IOTEDGE_IOTHUBHOSTNAME are not set. Exiting...\n",
      "2021-12-12T00:13:55,362865165+00:00 - iot-server/finish 1 0\n",
      "2021-12-12T00:13:55,364135457+00:00 - Exit code 1 is normal. Not restarting iot-server.\n",
      "Starting gunicorn 20.1.0\n",
      "Listening at: http://127.0.0.1:31311 (14)\n",
      "Using worker: sync\n",
      "worker timeout is set to 300\n",
      "Booting worker with pid: 43\n",
      "SPARK_HOME not set. Skipping PySpark Initialization.\n",
      "Initializing logger\n",
      "2021-12-12 00:13:57,018 | root | INFO | Starting up app insights client\n",
      "logging socket was found. logging is available.\n",
      "logging socket was found. logging is available.\n",
      "2021-12-12 00:13:57,019 | root | INFO | Starting up request id generator\n",
      "2021-12-12 00:13:57,019 | root | INFO | Starting up app insight hooks\n",
      "2021-12-12 00:13:57,019 | root | INFO | Invoking user's init function\n",
      "no request id,/azureml-envs/azureml_86da7afbb7ba4afdff973465b769aca1/lib/python3.6/site-packages/sklearn/base.py:315: UserWarning: Trying to unpickle estimator LogisticRegression from version 0.22.2.post1 when using version 0.24.2. This might lead to breaking code or invalid results. Use at your own risk.\n",
      "  UserWarning)\n",
      "\n",
      "no request id,/azureml-envs/azureml_86da7afbb7ba4afdff973465b769aca1/lib/python3.6/site-packages/sklearn/base.py:315: UserWarning: Trying to unpickle estimator CountVectorizer from version 0.22.2.post1 when using version 0.24.2. This might lead to breaking code or invalid results. Use at your own risk.\n",
      "  UserWarning)\n",
      "\n",
      "2021-12-12 00:13:57,806 | root | INFO | Users's init has completed successfully\n",
      "/azureml-envs/azureml_86da7afbb7ba4afdff973465b769aca1/lib/python3.6/site-packages/sklearn/base.py:315: UserWarning: Trying to unpickle estimator LogisticRegression from version 0.22.2.post1 when using version 0.24.2. This might lead to breaking code or invalid results. Use at your own risk.\n",
      "  UserWarning)\n",
      "/azureml-envs/azureml_86da7afbb7ba4afdff973465b769aca1/lib/python3.6/site-packages/sklearn/base.py:315: UserWarning: Trying to unpickle estimator CountVectorizer from version 0.22.2.post1 when using version 0.24.2. This might lead to breaking code or invalid results. Use at your own risk.\n",
      "  UserWarning)\n",
      "[nltk_data] Downloading package punkt to /root/nltk_data...\n",
      "[nltk_data]   Unzipping tokenizers/punkt.zip.\n",
      "[nltk_data] Downloading package wordnet to /root/nltk_data...\n",
      "[nltk_data]   Unzipping corpora/wordnet.zip.\n",
      "2021-12-12 00:13:57,808 | root | INFO | Skipping middleware: dbg_model_info as it's not enabled.\n",
      "2021-12-12 00:13:57,808 | root | INFO | Skipping middleware: dbg_resource_usage as it's not enabled.\n",
      "2021-12-12 00:13:57,809 | root | INFO | Scoring timeout setting is not found. Use default timeout: 3600000 ms\n",
      "\n"
     ]
    }
   ],
   "source": [
    "print(local_service_model.get_logs())"
   ]
  },
  {
   "cell_type": "code",
   "execution_count": 60,
   "metadata": {},
   "outputs": [
    {
     "name": "stdout",
     "output_type": "stream",
     "text": [
      "{'predictions': [5, 5]}\n"
     ]
    }
   ],
   "source": [
    "example_json = json.dumps({\n",
    "    \"n_reviews\" : 2,\n",
    "    \"reviews\" : [\n",
    "        {\n",
    "            \"marketplace\" : \"US\",\n",
    "            \"customer_id\" : \"20422322\",\n",
    "            \"review_id\" : \"R8MEA6IGAHO0B\",\n",
    "            \"product_id\" : \"B00MC4CED8\",\n",
    "            \"product_parent\" : \"217304173\",\n",
    "            \"product_title\" : \"BlackVue\",\n",
    "            \"product_category\" : \"Mobile_Electronics\",\n",
    "            \"helpful_votes\" : 0,\n",
    "            \"total_votes\" : 0,\n",
    "            \"vine\" : \"N\",\n",
    "            \"verified_purchase\" : \"Y\",\n",
    "            \"review_headline\" : \"Very Happy!    As advertised.\",\n",
    "            \"review_body\" : \"Everything works perfectly, I'm happy\",\n",
    "            \"review_date\" : \"2015-08-31\"\n",
    "        },\n",
    "        {\n",
    "            \"marketplace\" : \"US\",\n",
    "            \"customer_id\" : \"15204307\",\n",
    "            \"review_id\" : \"RZGDLDMGMGKLB\",\n",
    "            \"product_id\" : \"B000I3F91O\",\n",
    "            \"product_parent\" : \"90621845\",\n",
    "            \"product_title\" : \"Sangean H205 AM/FM Weather Alert Waterproof\",\n",
    "            \"product_category\" : \"Electronics\",\n",
    "            \"helpful_votes\" : 0,\n",
    "            \"total_votes\" : 0,\n",
    "            \"vine\" : \"N\",\n",
    "            \"verified_purchase\" : \"Y\",\n",
    "            \"review_headline\" : \"Best shower radio I have ever owned\",\n",
    "            \"review_body\" : \"love shower radio own shower radio best one\",\n",
    "            \"review_date\" : \"2014-11-08\"\n",
    "        },\n",
    "    ]\n",
    "})\n",
    "example_json = bytes(example_json, encoding = \"utf8\")\n",
    "output = local_service_model.run(example_json)\n",
    "print(output)"
   ]
  },
  {
   "cell_type": "markdown",
   "metadata": {},
   "source": [
    "Once our local service is ready, we can now deploy it to a public endpoint. While creating an `AciWebservice,` I have set `cpu_cores=3.8` and `memory_gb=15` to maximize the processing power in the deployment environment.\n",
    "\n",
    "If Azure complains that the specified specs are too high, you can check the specific upper bounds for your region [here](https://docs.microsoft.com/en-us/azure/container-instances/container-instances-region-availability)."
   ]
  },
  {
   "cell_type": "code",
   "execution_count": 61,
   "metadata": {},
   "outputs": [
    {
     "name": "stdout",
     "output_type": "stream",
     "text": [
      "Tips: You can try get_logs(): https://aka.ms/debugimage#dockerlog or local deployment: https://aka.ms/debugimage#debug-locally to debug if deployment takes longer than 10 minutes.\n",
      "Running\n",
      "2021-12-12 00:14:47+00:00 Creating Container Registry if not exists.\n",
      "2021-12-12 00:14:47+00:00 Registering the environment.\n",
      "2021-12-12 00:14:47+00:00 Use the existing image.\n",
      "2021-12-12 00:14:47+00:00 Generating deployment configuration.\n",
      "2021-12-12 00:14:48+00:00 Submitting deployment to compute.\n",
      "2021-12-12 00:14:54+00:00 Checking the status of deployment model-aci-service-5..\n",
      "2021-12-12 00:17:10+00:00 Checking the status of inference endpoint model-aci-service-5.\n",
      "Succeeded\n",
      "ACI service creation operation finished, operation \"Succeeded\"\n"
     ]
    }
   ],
   "source": [
    "aci_deployment_config = AciWebservice.deploy_configuration(\n",
    "    cpu_cores = 3.8, memory_gb = 15)\n",
    "\n",
    "model_aci_service = Model.deploy(\n",
    "    workspace, \"model-aci-service-5\",\n",
    "    [final_model], inference_config, \n",
    "    aci_deployment_config\n",
    ")\n",
    "\n",
    "model_aci_service.wait_for_deployment(True)"
   ]
  },
  {
   "cell_type": "code",
   "execution_count": 62,
   "metadata": {},
   "outputs": [],
   "source": [
    "## YOUR SCORING_URI CODE HERE ##\n",
    "deployed_uri = model_aci_service.scoring_uri\n",
    "with open('scoring_uri.txt', 'w') as file:\n",
    "    file.write(deployed_uri)"
   ]
  },
  {
   "cell_type": "code",
   "execution_count": 63,
   "metadata": {
    "colab": {},
    "colab_type": "code",
    "id": "t4GMSsv6opVp"
   },
   "outputs": [],
   "source": [
    "def ping_endpoint(json_data, uri = None):\n",
    "    if uri is None:\n",
    "        uri = open(\"scoring_uri.txt\", \"r\").read()\n",
    "    headers = {'Content-Type' : 'application/json'}\n",
    "    response = requests.post(uri, json_data, headers = headers)\n",
    "    return response.status_code, response.text"
   ]
  },
  {
   "cell_type": "markdown",
   "metadata": {},
   "source": [
    "Let's test our model on the provided `example_json`. Check that the status code is 200 and the predicted labels are what we expect."
   ]
  },
  {
   "cell_type": "code",
   "execution_count": 64,
   "metadata": {},
   "outputs": [
    {
     "name": "stdout",
     "output_type": "stream",
     "text": [
      "200\n",
      "{\"predictions\": [5, 5]}\n"
     ]
    }
   ],
   "source": [
    "# test the deployed model with 2 samples\n",
    "status_code, predicted_labels = ping_endpoint(example_json)\n",
    "print(status_code)\n",
    "print(predicted_labels)"
   ]
  },
  {
   "cell_type": "markdown",
   "metadata": {},
   "source": [
    "Now we can test your model on a 5000-row subset of the training dataset. Again check that the status code is 200 and the predict labels are a list of 5000 integers. If you encounter any error, check your `service.get_logs()`. One common issue is that the request times out; in other words, your deployed model takes too long to process the test data and generate predictions. To address this, you would need to optimize your data processing steps and redeploy them. Our grader will also send 5000 rows of test data to your endpoint in one single request.\n",
    "\n",
    "**Notes**:\n",
    "* Azure ACI enforces a one-minute timeout for handling the input request. If your code takes longer than one minute, the endpoint will return a 502 or 504 error."
   ]
  },
  {
   "cell_type": "code",
   "execution_count": 65,
   "metadata": {},
   "outputs": [
    {
     "name": "stdout",
     "output_type": "stream",
     "text": [
      "Status code 200\n",
      "Model accuracy 0.8096\n"
     ]
    }
   ],
   "source": [
    "from sklearn.metrics import accuracy_score\n",
    "\n",
    "def construct_json_input():\n",
    "    df_training_subset = read_data().sample(n = 5000, random_state = 200)\n",
    "    true_labels = df_training_subset[\"star_rating\"]\n",
    "    training_subset_json = json.dumps({\n",
    "        \"n_reviews\" : len(df_training_subset),\n",
    "        \"reviews\" : df_training_subset.drop(columns = \"star_rating\").to_dict(\"records\")\n",
    "    })\n",
    "    return bytes(training_subset_json, encoding = \"utf8\"), true_labels\n",
    "\n",
    "# test the deployed model with a subset of training data\n",
    "def test_model_deployment():\n",
    "    data, true_labels = construct_json_input()\n",
    "    status_code, response = ping_endpoint(data)\n",
    "    print(\"Status code\", status_code)\n",
    "    predicted_labels = json.loads(response)[\"predictions\"]\n",
    "    print(\"Model accuracy\", accuracy_score(true_labels, predicted_labels))\n",
    "    \n",
    "test_model_deployment()"
   ]
  }
 ],
 "metadata": {
  "celltoolbar": "Tags",
  "colab": {
   "collapsed_sections": [],
   "name": "FCDA_final_exam.ipynb",
   "provenance": []
  },
  "kernel_info": {
   "name": "python3"
  },
  "kernelspec": {
   "display_name": "Python 3",
   "language": "python",
   "name": "python3"
  },
  "language_info": {
   "codemirror_mode": {
    "name": "ipython",
    "version": 3
   },
   "file_extension": ".py",
   "mimetype": "text/x-python",
   "name": "python",
   "nbconvert_exporter": "python",
   "pygments_lexer": "ipython3",
   "version": "3.8.8"
  },
  "nteract": {
   "version": "nteract-front-end@1.0.0"
  },
  "toc": {
   "base_numbering": 1,
   "nav_menu": {},
   "number_sections": true,
   "sideBar": true,
   "skip_h1_title": true,
   "title_cell": "Table of Contents",
   "title_sidebar": "Contents",
   "toc_cell": true,
   "toc_position": {},
   "toc_section_display": true,
   "toc_window_display": false
  }
 },
 "nbformat": 4,
 "nbformat_minor": 4
}
